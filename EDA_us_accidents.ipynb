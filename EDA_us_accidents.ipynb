{
  "nbformat": 4,
  "nbformat_minor": 0,
  "metadata": {
    "colab": {
      "name": "EDA_us_accidents.ipynb",
      "provenance": [],
      "collapsed_sections": [
        "AU8paJ-xkwnb"
      ],
      "authorship_tag": "ABX9TyMeFz6yVqEFR1tKzaJCJCjd",
      "include_colab_link": true
    },
    "kernelspec": {
      "name": "python3",
      "display_name": "Python 3"
    },
    "language_info": {
      "name": "python"
    }
  },
  "cells": [
    {
      "cell_type": "markdown",
      "metadata": {
        "id": "view-in-github",
        "colab_type": "text"
      },
      "source": [
        "<a href=\"https://colab.research.google.com/github/soil15/US_accidents/blob/main/EDA_us_accidents.ipynb\" target=\"_parent\"><img src=\"https://colab.research.google.com/assets/colab-badge.svg\" alt=\"Open In Colab\"/></a>"
      ]
    },
    {
      "cell_type": "markdown",
      "metadata": {
        "id": "wf9xU3vMhJ2u"
      },
      "source": [
        "# EDA (US_accidents)"
      ]
    },
    {
      "cell_type": "markdown",
      "metadata": {
        "id": "AU8paJ-xkwnb"
      },
      "source": [
        "## Importing dataset\n"
      ]
    },
    {
      "cell_type": "code",
      "metadata": {
        "id": "6_gFM0M44lvc",
        "colab": {
          "base_uri": "https://localhost:8080/"
        },
        "outputId": "1c99ff41-f513-4fda-f72c-78b128e80de2"
      },
      "source": [
        "from google.colab import drive\n",
        "drive.mount('/content/drive/')"
      ],
      "execution_count": null,
      "outputs": [
        {
          "output_type": "stream",
          "text": [
            "Drive already mounted at /content/drive/; to attempt to forcibly remount, call drive.mount(\"/content/drive/\", force_remount=True).\n"
          ],
          "name": "stdout"
        }
      ]
    },
    {
      "cell_type": "code",
      "metadata": {
        "colab": {
          "base_uri": "https://localhost:8080/"
        },
        "id": "FdOGz5FHk1Ch",
        "outputId": "85225e73-cbe4-4fa5-c9bf-cca8fdaf91b5"
      },
      "source": [
        "!pip install kaggle"
      ],
      "execution_count": null,
      "outputs": [
        {
          "output_type": "stream",
          "text": [
            "Requirement already satisfied: kaggle in /usr/local/lib/python3.7/dist-packages (1.5.12)\n",
            "Requirement already satisfied: python-slugify in /usr/local/lib/python3.7/dist-packages (from kaggle) (5.0.2)\n",
            "Requirement already satisfied: python-dateutil in /usr/local/lib/python3.7/dist-packages (from kaggle) (2.8.1)\n",
            "Requirement already satisfied: urllib3 in /usr/local/lib/python3.7/dist-packages (from kaggle) (1.24.3)\n",
            "Requirement already satisfied: requests in /usr/local/lib/python3.7/dist-packages (from kaggle) (2.23.0)\n",
            "Requirement already satisfied: six>=1.10 in /usr/local/lib/python3.7/dist-packages (from kaggle) (1.15.0)\n",
            "Requirement already satisfied: certifi in /usr/local/lib/python3.7/dist-packages (from kaggle) (2021.5.30)\n",
            "Requirement already satisfied: tqdm in /usr/local/lib/python3.7/dist-packages (from kaggle) (4.41.1)\n",
            "Requirement already satisfied: text-unidecode>=1.3 in /usr/local/lib/python3.7/dist-packages (from python-slugify->kaggle) (1.3)\n",
            "Requirement already satisfied: chardet<4,>=3.0.2 in /usr/local/lib/python3.7/dist-packages (from requests->kaggle) (3.0.4)\n",
            "Requirement already satisfied: idna<3,>=2.5 in /usr/local/lib/python3.7/dist-packages (from requests->kaggle) (2.10)\n"
          ],
          "name": "stdout"
        }
      ]
    },
    {
      "cell_type": "code",
      "metadata": {
        "colab": {
          "base_uri": "https://localhost:8080/"
        },
        "id": "YNjXQBv1k1AK",
        "outputId": "1a0f3ccd-a5d9-4473-b09c-9ffac318f3f9"
      },
      "source": [
        "!mkdir .kaggle"
      ],
      "execution_count": null,
      "outputs": [
        {
          "output_type": "stream",
          "text": [
            "mkdir: cannot create directory ‘.kaggle’: File exists\n"
          ],
          "name": "stdout"
        }
      ]
    },
    {
      "cell_type": "code",
      "metadata": {
        "id": "03MvJHA8k09s"
      },
      "source": [
        "!touch .kaggle"
      ],
      "execution_count": null,
      "outputs": []
    },
    {
      "cell_type": "code",
      "metadata": {
        "colab": {
          "base_uri": "https://localhost:8080/"
        },
        "id": "1wG66hN6k07Y",
        "outputId": "2d5a98b6-4d99-470a-a77d-53f9693b6e07"
      },
      "source": [
        "!ls"
      ],
      "execution_count": null,
      "outputs": [
        {
          "output_type": "stream",
          "text": [
            "drive  kaggle.json  sample_data\n"
          ],
          "name": "stdout"
        }
      ]
    },
    {
      "cell_type": "code",
      "metadata": {
        "id": "g3Iztl16lRwy"
      },
      "source": [
        "import json\n",
        "token = {\"username\":\"soil89\",\"key\":\"d2a64218a716fafc304dfe8249b6dbaa\"}\n",
        "with open('/content/.kaggle/kaggle.json', 'w') as file:\n",
        "    json.dump(token, file)"
      ],
      "execution_count": null,
      "outputs": []
    },
    {
      "cell_type": "code",
      "metadata": {
        "id": "JNixRmg2lRuv"
      },
      "source": [
        "!cp /content/.kaggle/kaggle.json ~/.kaggle/kaggle.json"
      ],
      "execution_count": null,
      "outputs": []
    },
    {
      "cell_type": "code",
      "metadata": {
        "id": "-6wt0OAvlRsU"
      },
      "source": [
        "!cp /content/.kaggle/kaggle.json ~/.kaggle/kaggle.json"
      ],
      "execution_count": null,
      "outputs": []
    },
    {
      "cell_type": "code",
      "metadata": {
        "id": "zK0b_fOUlcGO"
      },
      "source": [
        "!chmod 600 /root/.kaggle/kaggle.json"
      ],
      "execution_count": null,
      "outputs": []
    },
    {
      "cell_type": "code",
      "metadata": {
        "colab": {
          "base_uri": "https://localhost:8080/"
        },
        "id": "FWS79Mszl57L",
        "outputId": "c9f1b419-74f6-4e5a-cef7-23e1b44b662f"
      },
      "source": [
        "!kaggle datasets download -d sobhanmoosavi/us-accidents --force"
      ],
      "execution_count": null,
      "outputs": [
        {
          "output_type": "stream",
          "text": [
            "Downloading us-accidents.zip to /content\n",
            " 97% 282M/290M [00:01<00:00, 179MB/s]\n",
            "100% 290M/290M [00:01<00:00, 157MB/s]\n"
          ],
          "name": "stdout"
        }
      ]
    },
    {
      "cell_type": "code",
      "metadata": {
        "colab": {
          "base_uri": "https://localhost:8080/"
        },
        "id": "sjr3nNyil-aO",
        "outputId": "f5f9e380-a130-4622-b2a1-a31082b8cf31"
      },
      "source": [
        "!unzip \\*.zip"
      ],
      "execution_count": null,
      "outputs": [
        {
          "output_type": "stream",
          "text": [
            "Archive:  us-accidents.zip\n",
            "  inflating: US_Accidents_Dec20_Updated.csv  \n"
          ],
          "name": "stdout"
        }
      ]
    },
    {
      "cell_type": "code",
      "metadata": {
        "id": "pvxN_Z-9mfBG"
      },
      "source": [
        "import pandas as pd\n",
        "import numpy as np\n",
        "import matplotlib.pyplot as plt\n",
        "import seaborn as sb"
      ],
      "execution_count": null,
      "outputs": []
    },
    {
      "cell_type": "code",
      "metadata": {
        "id": "odjYkecLmoXl",
        "colab": {
          "base_uri": "https://localhost:8080/"
        },
        "outputId": "6b9e4a01-d7c7-4756-9bd4-6ad1a1b6d5aa"
      },
      "source": [
        "data_frame = pd.read_csv(\"/content/US_Accidents_Dec20_Updated.csv\")\n",
        "data_frame.head()"
      ],
      "execution_count": null,
      "outputs": [
        {
          "output_type": "execute_result",
          "data": {
            "text/html": [
              "<div>\n",
              "<style scoped>\n",
              "    .dataframe tbody tr th:only-of-type {\n",
              "        vertical-align: middle;\n",
              "    }\n",
              "\n",
              "    .dataframe tbody tr th {\n",
              "        vertical-align: top;\n",
              "    }\n",
              "\n",
              "    .dataframe thead th {\n",
              "        text-align: right;\n",
              "    }\n",
              "</style>\n",
              "<table border=\"1\" class=\"dataframe\">\n",
              "  <thead>\n",
              "    <tr style=\"text-align: right;\">\n",
              "      <th></th>\n",
              "      <th>ID</th>\n",
              "      <th>Severity</th>\n",
              "      <th>Start_Time</th>\n",
              "      <th>End_Time</th>\n",
              "      <th>Start_Lat</th>\n",
              "      <th>Start_Lng</th>\n",
              "      <th>End_Lat</th>\n",
              "      <th>End_Lng</th>\n",
              "      <th>Distance(mi)</th>\n",
              "      <th>Description</th>\n",
              "      <th>Number</th>\n",
              "      <th>Street</th>\n",
              "      <th>Side</th>\n",
              "      <th>City</th>\n",
              "      <th>County</th>\n",
              "      <th>State</th>\n",
              "      <th>Zipcode</th>\n",
              "      <th>Country</th>\n",
              "      <th>Timezone</th>\n",
              "      <th>Airport_Code</th>\n",
              "      <th>Weather_Timestamp</th>\n",
              "      <th>Temperature(F)</th>\n",
              "      <th>Wind_Chill(F)</th>\n",
              "      <th>Humidity(%)</th>\n",
              "      <th>Pressure(in)</th>\n",
              "      <th>Visibility(mi)</th>\n",
              "      <th>Wind_Direction</th>\n",
              "      <th>Wind_Speed(mph)</th>\n",
              "      <th>Precipitation(in)</th>\n",
              "      <th>Weather_Condition</th>\n",
              "      <th>Amenity</th>\n",
              "      <th>Bump</th>\n",
              "      <th>Crossing</th>\n",
              "      <th>Give_Way</th>\n",
              "      <th>Junction</th>\n",
              "      <th>No_Exit</th>\n",
              "      <th>Railway</th>\n",
              "      <th>Roundabout</th>\n",
              "      <th>Station</th>\n",
              "      <th>Stop</th>\n",
              "      <th>Traffic_Calming</th>\n",
              "      <th>Traffic_Signal</th>\n",
              "      <th>Turning_Loop</th>\n",
              "      <th>Sunrise_Sunset</th>\n",
              "      <th>Civil_Twilight</th>\n",
              "      <th>Nautical_Twilight</th>\n",
              "      <th>Astronomical_Twilight</th>\n",
              "    </tr>\n",
              "  </thead>\n",
              "  <tbody>\n",
              "    <tr>\n",
              "      <th>0</th>\n",
              "      <td>A-1</td>\n",
              "      <td>2</td>\n",
              "      <td>2019-05-21 08:29:55</td>\n",
              "      <td>2019-05-21 09:29:40</td>\n",
              "      <td>34.808868</td>\n",
              "      <td>-82.269157</td>\n",
              "      <td>34.808868</td>\n",
              "      <td>-82.269157</td>\n",
              "      <td>0.0</td>\n",
              "      <td>Accident on Tanner Rd at Pennbrooke Ln.</td>\n",
              "      <td>439.0</td>\n",
              "      <td>Tanner Rd</td>\n",
              "      <td>R</td>\n",
              "      <td>Greenville</td>\n",
              "      <td>Greenville</td>\n",
              "      <td>SC</td>\n",
              "      <td>29607-6027</td>\n",
              "      <td>US</td>\n",
              "      <td>US/Eastern</td>\n",
              "      <td>KGMU</td>\n",
              "      <td>2019-05-21 08:53:00</td>\n",
              "      <td>76.0</td>\n",
              "      <td>76.0</td>\n",
              "      <td>52.0</td>\n",
              "      <td>28.91</td>\n",
              "      <td>10.0</td>\n",
              "      <td>N</td>\n",
              "      <td>7.0</td>\n",
              "      <td>0.0</td>\n",
              "      <td>Fair</td>\n",
              "      <td>False</td>\n",
              "      <td>False</td>\n",
              "      <td>False</td>\n",
              "      <td>False</td>\n",
              "      <td>False</td>\n",
              "      <td>False</td>\n",
              "      <td>False</td>\n",
              "      <td>False</td>\n",
              "      <td>False</td>\n",
              "      <td>False</td>\n",
              "      <td>False</td>\n",
              "      <td>False</td>\n",
              "      <td>False</td>\n",
              "      <td>Day</td>\n",
              "      <td>Day</td>\n",
              "      <td>Day</td>\n",
              "      <td>Day</td>\n",
              "    </tr>\n",
              "    <tr>\n",
              "      <th>1</th>\n",
              "      <td>A-2</td>\n",
              "      <td>2</td>\n",
              "      <td>2019-10-07 17:43:09</td>\n",
              "      <td>2019-10-07 19:42:50</td>\n",
              "      <td>35.090080</td>\n",
              "      <td>-80.745560</td>\n",
              "      <td>35.090080</td>\n",
              "      <td>-80.745560</td>\n",
              "      <td>0.0</td>\n",
              "      <td>Accident on Houston Branch Rd at Providence Br...</td>\n",
              "      <td>3299.0</td>\n",
              "      <td>Providence Branch Ln</td>\n",
              "      <td>R</td>\n",
              "      <td>Charlotte</td>\n",
              "      <td>Mecklenburg</td>\n",
              "      <td>NC</td>\n",
              "      <td>28270-8560</td>\n",
              "      <td>US</td>\n",
              "      <td>US/Eastern</td>\n",
              "      <td>KEQY</td>\n",
              "      <td>2019-10-07 17:53:00</td>\n",
              "      <td>76.0</td>\n",
              "      <td>76.0</td>\n",
              "      <td>62.0</td>\n",
              "      <td>29.30</td>\n",
              "      <td>10.0</td>\n",
              "      <td>VAR</td>\n",
              "      <td>3.0</td>\n",
              "      <td>0.0</td>\n",
              "      <td>Cloudy</td>\n",
              "      <td>False</td>\n",
              "      <td>False</td>\n",
              "      <td>False</td>\n",
              "      <td>False</td>\n",
              "      <td>False</td>\n",
              "      <td>False</td>\n",
              "      <td>False</td>\n",
              "      <td>False</td>\n",
              "      <td>False</td>\n",
              "      <td>False</td>\n",
              "      <td>False</td>\n",
              "      <td>False</td>\n",
              "      <td>False</td>\n",
              "      <td>Day</td>\n",
              "      <td>Day</td>\n",
              "      <td>Day</td>\n",
              "      <td>Day</td>\n",
              "    </tr>\n",
              "    <tr>\n",
              "      <th>2</th>\n",
              "      <td>A-3</td>\n",
              "      <td>2</td>\n",
              "      <td>2020-12-13 21:53:00</td>\n",
              "      <td>2020-12-13 22:44:00</td>\n",
              "      <td>37.145730</td>\n",
              "      <td>-121.985052</td>\n",
              "      <td>37.165850</td>\n",
              "      <td>-121.988062</td>\n",
              "      <td>1.4</td>\n",
              "      <td>Stationary traffic on CA-17 from Summit Rd (CA...</td>\n",
              "      <td>NaN</td>\n",
              "      <td>Santa Cruz Hwy</td>\n",
              "      <td>R</td>\n",
              "      <td>Los Gatos</td>\n",
              "      <td>Santa Clara</td>\n",
              "      <td>CA</td>\n",
              "      <td>95033</td>\n",
              "      <td>US</td>\n",
              "      <td>US/Pacific</td>\n",
              "      <td>KSJC</td>\n",
              "      <td>2020-12-13 21:53:00</td>\n",
              "      <td>51.0</td>\n",
              "      <td>51.0</td>\n",
              "      <td>80.0</td>\n",
              "      <td>30.17</td>\n",
              "      <td>10.0</td>\n",
              "      <td>W</td>\n",
              "      <td>6.0</td>\n",
              "      <td>0.0</td>\n",
              "      <td>Fair</td>\n",
              "      <td>False</td>\n",
              "      <td>False</td>\n",
              "      <td>False</td>\n",
              "      <td>False</td>\n",
              "      <td>False</td>\n",
              "      <td>False</td>\n",
              "      <td>False</td>\n",
              "      <td>False</td>\n",
              "      <td>False</td>\n",
              "      <td>False</td>\n",
              "      <td>False</td>\n",
              "      <td>False</td>\n",
              "      <td>False</td>\n",
              "      <td>Night</td>\n",
              "      <td>Night</td>\n",
              "      <td>Night</td>\n",
              "      <td>Night</td>\n",
              "    </tr>\n",
              "    <tr>\n",
              "      <th>3</th>\n",
              "      <td>A-4</td>\n",
              "      <td>2</td>\n",
              "      <td>2018-04-17 16:51:23</td>\n",
              "      <td>2018-04-17 17:50:46</td>\n",
              "      <td>39.110390</td>\n",
              "      <td>-119.773781</td>\n",
              "      <td>39.110390</td>\n",
              "      <td>-119.773781</td>\n",
              "      <td>0.0</td>\n",
              "      <td>Accident on US-395 Southbound at Topsy Ln.</td>\n",
              "      <td>NaN</td>\n",
              "      <td>US Highway 395 S</td>\n",
              "      <td>R</td>\n",
              "      <td>Carson City</td>\n",
              "      <td>Douglas</td>\n",
              "      <td>NV</td>\n",
              "      <td>89705</td>\n",
              "      <td>US</td>\n",
              "      <td>US/Pacific</td>\n",
              "      <td>KCXP</td>\n",
              "      <td>2018-04-17 16:55:00</td>\n",
              "      <td>53.6</td>\n",
              "      <td>NaN</td>\n",
              "      <td>16.0</td>\n",
              "      <td>30.16</td>\n",
              "      <td>10.0</td>\n",
              "      <td>SSW</td>\n",
              "      <td>4.6</td>\n",
              "      <td>NaN</td>\n",
              "      <td>Clear</td>\n",
              "      <td>False</td>\n",
              "      <td>False</td>\n",
              "      <td>False</td>\n",
              "      <td>False</td>\n",
              "      <td>False</td>\n",
              "      <td>False</td>\n",
              "      <td>False</td>\n",
              "      <td>False</td>\n",
              "      <td>False</td>\n",
              "      <td>False</td>\n",
              "      <td>False</td>\n",
              "      <td>True</td>\n",
              "      <td>False</td>\n",
              "      <td>Day</td>\n",
              "      <td>Day</td>\n",
              "      <td>Day</td>\n",
              "      <td>Day</td>\n",
              "    </tr>\n",
              "    <tr>\n",
              "      <th>4</th>\n",
              "      <td>A-5</td>\n",
              "      <td>3</td>\n",
              "      <td>2016-08-31 17:40:49</td>\n",
              "      <td>2016-08-31 18:10:49</td>\n",
              "      <td>26.102942</td>\n",
              "      <td>-80.265091</td>\n",
              "      <td>26.102942</td>\n",
              "      <td>-80.265091</td>\n",
              "      <td>0.0</td>\n",
              "      <td>Accident on I-595 Westbound at Exit 4 / Pine I...</td>\n",
              "      <td>NaN</td>\n",
              "      <td>I-595 W</td>\n",
              "      <td>R</td>\n",
              "      <td>Fort Lauderdale</td>\n",
              "      <td>Broward</td>\n",
              "      <td>FL</td>\n",
              "      <td>33324</td>\n",
              "      <td>US</td>\n",
              "      <td>US/Eastern</td>\n",
              "      <td>KHWO</td>\n",
              "      <td>2016-08-31 17:53:00</td>\n",
              "      <td>84.2</td>\n",
              "      <td>NaN</td>\n",
              "      <td>84.0</td>\n",
              "      <td>29.92</td>\n",
              "      <td>10.0</td>\n",
              "      <td>SSE</td>\n",
              "      <td>13.8</td>\n",
              "      <td>NaN</td>\n",
              "      <td>Overcast</td>\n",
              "      <td>False</td>\n",
              "      <td>False</td>\n",
              "      <td>False</td>\n",
              "      <td>False</td>\n",
              "      <td>True</td>\n",
              "      <td>False</td>\n",
              "      <td>False</td>\n",
              "      <td>False</td>\n",
              "      <td>False</td>\n",
              "      <td>False</td>\n",
              "      <td>False</td>\n",
              "      <td>True</td>\n",
              "      <td>False</td>\n",
              "      <td>Day</td>\n",
              "      <td>Day</td>\n",
              "      <td>Day</td>\n",
              "      <td>Day</td>\n",
              "    </tr>\n",
              "  </tbody>\n",
              "</table>\n",
              "</div>"
            ],
            "text/plain": [
              "    ID  Severity  ... Nautical_Twilight Astronomical_Twilight\n",
              "0  A-1         2  ...               Day                   Day\n",
              "1  A-2         2  ...               Day                   Day\n",
              "2  A-3         2  ...             Night                 Night\n",
              "3  A-4         2  ...               Day                   Day\n",
              "4  A-5         3  ...               Day                   Day\n",
              "\n",
              "[5 rows x 47 columns]"
            ]
          },
          "metadata": {
            "tags": []
          },
          "execution_count": 26
        }
      ]
    },
    {
      "cell_type": "code",
      "metadata": {
        "id": "7WIoWdh8nAFW",
        "colab": {
          "base_uri": "https://localhost:8080/"
        },
        "outputId": "c5f2a113-3c24-4bb3-f44e-f46eb06dedd1"
      },
      "source": [
        "data_frame[\"Severity\"].value_counts()"
      ],
      "execution_count": null,
      "outputs": [
        {
          "output_type": "execute_result",
          "data": {
            "text/plain": [
              "2    2129263\n",
              "3     629452\n",
              "4     119144\n",
              "1      28751\n",
              "Name: Severity, dtype: int64"
            ]
          },
          "metadata": {
            "tags": []
          },
          "execution_count": 27
        }
      ]
    },
    {
      "cell_type": "code",
      "metadata": {
        "id": "le-DMmKGnYk8",
        "colab": {
          "base_uri": "https://localhost:8080/"
        },
        "outputId": "bab71472-b82a-4f1c-e404-ddd08a6b6ba7"
      },
      "source": [
        "data_frame[\"Weather_Condition\"].value_counts()"
      ],
      "execution_count": null,
      "outputs": [
        {
          "output_type": "execute_result",
          "data": {
            "text/plain": [
              "Fair                         692680\n",
              "Clear                        498925\n",
              "Mostly Cloudy                386122\n",
              "Partly Cloudy                268851\n",
              "Cloudy                       245054\n",
              "                              ...  \n",
              "Thunder and Hail / Windy          1\n",
              "Mist / Windy                      1\n",
              "Thunder and Hail                  1\n",
              "Sand / Dust Whirls Nearby         1\n",
              "Rain and Sleet                    1\n",
              "Name: Weather_Condition, Length: 128, dtype: int64"
            ]
          },
          "metadata": {
            "tags": []
          },
          "execution_count": 28
        }
      ]
    },
    {
      "cell_type": "code",
      "metadata": {
        "id": "WE0tom7-oF_U",
        "colab": {
          "base_uri": "https://localhost:8080/"
        },
        "outputId": "990b55aa-9b2f-4ce8-88cd-e57c939c0988"
      },
      "source": [
        "data_frame[\"Bump\"].value_counts()"
      ],
      "execution_count": null,
      "outputs": [
        {
          "output_type": "execute_result",
          "data": {
            "text/plain": [
              "False    2906031\n",
              "True         579\n",
              "Name: Bump, dtype: int64"
            ]
          },
          "metadata": {
            "tags": []
          },
          "execution_count": 29
        }
      ]
    },
    {
      "cell_type": "code",
      "metadata": {
        "id": "9KxD7hQZEIDn",
        "colab": {
          "base_uri": "https://localhost:8080/"
        },
        "outputId": "b8c5e95d-989a-4d99-d6ff-f23fb3606c43"
      },
      "source": [
        "data_frame.shape"
      ],
      "execution_count": null,
      "outputs": [
        {
          "output_type": "execute_result",
          "data": {
            "text/plain": [
              "(2906610, 47)"
            ]
          },
          "metadata": {
            "tags": []
          },
          "execution_count": 30
        }
      ]
    },
    {
      "cell_type": "code",
      "metadata": {
        "colab": {
          "base_uri": "https://localhost:8080/"
        },
        "id": "lB_yQffGFMWc",
        "outputId": "09026c7f-3322-4870-b36d-c098acede22a"
      },
      "source": [
        "numeric_cols = [col for col in data_frame.columns if data_frame[col].dtype != \"O\"]\n",
        "numeric_cols, len(numeric_cols)"
      ],
      "execution_count": null,
      "outputs": [
        {
          "output_type": "execute_result",
          "data": {
            "text/plain": [
              "(['Severity',\n",
              "  'Start_Lat',\n",
              "  'Start_Lng',\n",
              "  'End_Lat',\n",
              "  'End_Lng',\n",
              "  'Distance(mi)',\n",
              "  'Number',\n",
              "  'Temperature(F)',\n",
              "  'Wind_Chill(F)',\n",
              "  'Humidity(%)',\n",
              "  'Pressure(in)',\n",
              "  'Visibility(mi)',\n",
              "  'Wind_Speed(mph)',\n",
              "  'Precipitation(in)',\n",
              "  'Amenity',\n",
              "  'Bump',\n",
              "  'Crossing',\n",
              "  'Give_Way',\n",
              "  'Junction',\n",
              "  'No_Exit',\n",
              "  'Railway',\n",
              "  'Roundabout',\n",
              "  'Station',\n",
              "  'Stop',\n",
              "  'Traffic_Calming',\n",
              "  'Traffic_Signal',\n",
              "  'Turning_Loop'],\n",
              " 27)"
            ]
          },
          "metadata": {
            "tags": []
          },
          "execution_count": 31
        }
      ]
    },
    {
      "cell_type": "markdown",
      "metadata": {
        "id": "aFKffwGEhBM4"
      },
      "source": [
        "## Null / Missing values\n"
      ]
    },
    {
      "cell_type": "code",
      "metadata": {
        "id": "KHk_ObusG_dV",
        "colab": {
          "base_uri": "https://localhost:8080/"
        },
        "outputId": "a9770a58-52df-4719-ee58-156e309c05cb"
      },
      "source": [
        "null_val = data_frame.isnull().sum()\n",
        "null_val"
      ],
      "execution_count": null,
      "outputs": [
        {
          "output_type": "execute_result",
          "data": {
            "text/plain": [
              "ID                             0\n",
              "Severity                       0\n",
              "Start_Time                     0\n",
              "End_Time                       0\n",
              "Start_Lat                      0\n",
              "Start_Lng                      0\n",
              "End_Lat                   282821\n",
              "End_Lng                   282821\n",
              "Distance(mi)                   0\n",
              "Description                    0\n",
              "Number                   1891672\n",
              "Street                         0\n",
              "Side                           0\n",
              "City                         108\n",
              "County                         0\n",
              "State                          0\n",
              "Zipcode                     1114\n",
              "Country                        0\n",
              "Timezone                    3430\n",
              "Airport_Code                6608\n",
              "Weather_Timestamp          46917\n",
              "Temperature(F)             67224\n",
              "Wind_Chill(F)            1183859\n",
              "Humidity(%)                71270\n",
              "Pressure(in)               56908\n",
              "Visibility(mi)             72078\n",
              "Wind_Direction             63474\n",
              "Wind_Speed(mph)           307163\n",
              "Precipitation(in)        1301326\n",
              "Weather_Condition          71851\n",
              "Amenity                        0\n",
              "Bump                           0\n",
              "Crossing                       0\n",
              "Give_Way                       0\n",
              "Junction                       0\n",
              "No_Exit                        0\n",
              "Railway                        0\n",
              "Roundabout                     0\n",
              "Station                        0\n",
              "Stop                           0\n",
              "Traffic_Calming                0\n",
              "Traffic_Signal                 0\n",
              "Turning_Loop                   0\n",
              "Sunrise_Sunset               110\n",
              "Civil_Twilight               110\n",
              "Nautical_Twilight            110\n",
              "Astronomical_Twilight        110\n",
              "dtype: int64"
            ]
          },
          "metadata": {
            "tags": []
          },
          "execution_count": 32
        }
      ]
    },
    {
      "cell_type": "code",
      "metadata": {
        "colab": {
          "base_uri": "https://localhost:8080/"
        },
        "id": "0b1hBUsgiNpo",
        "outputId": "ab6e0c47-c9e0-4dfd-d4d3-9147df17d3bc"
      },
      "source": [
        "print(\"null values in percentage:\\n\")\n",
        "percentage = null_val[null_val > 0] * 100 / len(data_frame) \n",
        "percentage"
      ],
      "execution_count": null,
      "outputs": [
        {
          "output_type": "stream",
          "text": [
            "null values in percentage:\n",
            "\n"
          ],
          "name": "stdout"
        },
        {
          "output_type": "execute_result",
          "data": {
            "text/plain": [
              "End_Lat                   9.730270\n",
              "End_Lng                   9.730270\n",
              "Number                   65.081728\n",
              "City                      0.003716\n",
              "Zipcode                   0.038326\n",
              "Timezone                  0.118007\n",
              "Airport_Code              0.227344\n",
              "Weather_Timestamp         1.614148\n",
              "Temperature(F)            2.312797\n",
              "Wind_Chill(F)            40.729888\n",
              "Humidity(%)               2.451997\n",
              "Pressure(in)              1.957882\n",
              "Visibility(mi)            2.479796\n",
              "Wind_Direction            2.183781\n",
              "Wind_Speed(mph)          10.567740\n",
              "Precipitation(in)        44.771263\n",
              "Weather_Condition         2.471986\n",
              "Sunrise_Sunset            0.003784\n",
              "Civil_Twilight            0.003784\n",
              "Nautical_Twilight         0.003784\n",
              "Astronomical_Twilight     0.003784\n",
              "dtype: float64"
            ]
          },
          "metadata": {
            "tags": []
          },
          "execution_count": 33
        }
      ]
    },
    {
      "cell_type": "code",
      "metadata": {
        "colab": {
          "base_uri": "https://localhost:8080/",
          "height": 366
        },
        "id": "cfn7L_OBiSHc",
        "outputId": "cded8a08-933b-4df2-8295-cf960a14917e"
      },
      "source": [
        "sb.barplot(x=percentage[percentage > 10.0].index, y=percentage[percentage > 10.0], color=\"black\")\n",
        "plt.ylabel(\"percentage\")\n",
        "plt.title(\"Col with more than 10% null values\")\n",
        "plt.show()\n",
        "percentage[percentage > 10.0]"
      ],
      "execution_count": null,
      "outputs": [
        {
          "output_type": "display_data",
          "data": {
            "image/png": "[encoded data removed]",
            "text/plain": [
              "<Figure size 432x288 with 1 Axes>"
            ]
          },
          "metadata": {
            "tags": [],
            "needs_background": "light"
          }
        },
        {
          "output_type": "execute_result",
          "data": {
            "text/plain": [
              "Number               65.081728\n",
              "Wind_Chill(F)        40.729888\n",
              "Wind_Speed(mph)      10.567740\n",
              "Precipitation(in)    44.771263\n",
              "dtype: float64"
            ]
          },
          "metadata": {
            "tags": []
          },
          "execution_count": 34
        }
      ]
    },
    {
      "cell_type": "code",
      "metadata": {
        "colab": {
          "base_uri": "https://localhost:8080/"
        },
        "id": "jBNI8UcQnQcY",
        "outputId": "74ad110f-62df-480e-b2e5-9e3e7168bd2c"
      },
      "source": [
        "data_frame[\"Severity\"].value_counts()\n",
        "\n",
        "data_frame[\"Severity\"].head()"
      ],
      "execution_count": null,
      "outputs": [
        {
          "output_type": "execute_result",
          "data": {
            "text/plain": [
              "0    2\n",
              "1    2\n",
              "2    2\n",
              "3    2\n",
              "4    3\n",
              "Name: Severity, dtype: int64"
            ]
          },
          "metadata": {
            "tags": []
          },
          "execution_count": 35
        }
      ]
    },
    {
      "cell_type": "code",
      "metadata": {
        "colab": {
          "base_uri": "https://localhost:8080/",
          "height": 385
        },
        "id": "KrS58C6VlLmU",
        "outputId": "c9a02221-07eb-422a-a3e4-11f3da5c0129"
      },
      "source": [
        "Nan_cols = list(percentage[percentage > 10.0].index)\n",
        "\n",
        "Nan_cols.extend([\"Severity\"])\n",
        "print(Nan_cols, \"\\n\")\n",
        "\n",
        "corr = data_frame[Nan_cols].corr()\n",
        "\n",
        "sb.heatmap(corr, annot=True)\n",
        "plt.show()"
      ],
      "execution_count": null,
      "outputs": [
        {
          "output_type": "stream",
          "text": [
            "['Number', 'Wind_Chill(F)', 'Wind_Speed(mph)', 'Precipitation(in)', 'Severity'] \n",
            "\n"
          ],
          "name": "stdout"
        },
        {
          "output_type": "display_data",
          "data": {
            "image/png": "[encoded data removed]",
            "text/plain": [
              "<Figure size 432x288 with 2 Axes>"
            ]
          },
          "metadata": {
            "tags": [],
            "needs_background": "light"
          }
        }
      ]
    },
    {
      "cell_type": "markdown",
      "metadata": {
        "id": "mNKg0KYFoQmI"
      },
      "source": [
        "**As we can see all the columns which have more than 10% null values are barely \n",
        "correlated to severity so we can either remove them or just dont consider in the analysis and fill those Nan values in feature engineering part.**\n",
        "\n"
      ]
    },
    {
      "cell_type": "markdown",
      "metadata": {
        "id": "ZoF28FuQsqIT"
      },
      "source": [
        "## Gathering insights from different columns"
      ]
    },
    {
      "cell_type": "code",
      "metadata": {
        "colab": {
          "base_uri": "https://localhost:8080/"
        },
        "id": "vKpvoXuLtIn9",
        "outputId": "2a789063-dd2d-40d9-b623-dcfe93576d15"
      },
      "source": [
        "data_frame.columns"
      ],
      "execution_count": null,
      "outputs": [
        {
          "output_type": "execute_result",
          "data": {
            "text/plain": [
              "Index(['ID', 'Severity', 'Start_Time', 'End_Time', 'Start_Lat', 'Start_Lng',\n",
              "       'End_Lat', 'End_Lng', 'Distance(mi)', 'Description', 'Number', 'Street',\n",
              "       'Side', 'City', 'County', 'State', 'Zipcode', 'Country', 'Timezone',\n",
              "       'Airport_Code', 'Weather_Timestamp', 'Temperature(F)', 'Wind_Chill(F)',\n",
              "       'Humidity(%)', 'Pressure(in)', 'Visibility(mi)', 'Wind_Direction',\n",
              "       'Wind_Speed(mph)', 'Precipitation(in)', 'Weather_Condition', 'Amenity',\n",
              "       'Bump', 'Crossing', 'Give_Way', 'Junction', 'No_Exit', 'Railway',\n",
              "       'Roundabout', 'Station', 'Stop', 'Traffic_Calming', 'Traffic_Signal',\n",
              "       'Turning_Loop', 'Sunrise_Sunset', 'Civil_Twilight', 'Nautical_Twilight',\n",
              "       'Astronomical_Twilight'],\n",
              "      dtype='object')"
            ]
          },
          "metadata": {
            "tags": []
          },
          "execution_count": 37
        }
      ]
    },
    {
      "cell_type": "code",
      "metadata": {
        "colab": {
          "base_uri": "https://localhost:8080/"
        },
        "id": "lZMGMUO_S6u3",
        "outputId": "eeb22532-618a-43d8-e043-c38d1d288ddc"
      },
      "source": [
        "data_frame.corr()[\"Severity\"]"
      ],
      "execution_count": null,
      "outputs": [
        {
          "output_type": "execute_result",
          "data": {
            "text/plain": [
              "Severity             1.000000\n",
              "Start_Lat            0.061409\n",
              "Start_Lng            0.106505\n",
              "End_Lat              0.065170\n",
              "End_Lng              0.116482\n",
              "Distance(mi)         0.127185\n",
              "Number               0.013217\n",
              "Temperature(F)      -0.004717\n",
              "Wind_Chill(F)       -0.070314\n",
              "Humidity(%)          0.027513\n",
              "Pressure(in)         0.051001\n",
              "Visibility(mi)      -0.002381\n",
              "Wind_Speed(mph)      0.056054\n",
              "Precipitation(in)    0.021830\n",
              "Amenity             -0.028065\n",
              "Bump                -0.002865\n",
              "Crossing            -0.107441\n",
              "Give_Way            -0.002779\n",
              "Junction             0.038648\n",
              "No_Exit             -0.005160\n",
              "Railway             -0.014644\n",
              "Roundabout          -0.002841\n",
              "Station             -0.035492\n",
              "Stop                -0.036645\n",
              "Traffic_Calming     -0.001062\n",
              "Traffic_Signal      -0.132553\n",
              "Turning_Loop              NaN\n",
              "Name: Severity, dtype: float64"
            ]
          },
          "metadata": {
            "tags": []
          },
          "execution_count": 63
        }
      ]
    },
    {
      "cell_type": "code",
      "metadata": {
        "colab": {
          "base_uri": "https://localhost:8080/"
        },
        "id": "vFxKobGlT7AA",
        "outputId": "cdaa97f0-937a-4f20-e47e-6228df80f1f4"
      },
      "source": [
        "high_corr_cols = []\n",
        "\n",
        "for val, index in zip(data_frame.corr()[\"Severity\"], data_frame.corr()[\"Severity\"].index):\n",
        "  if(val > 0.1 or val < -0.1) and (index != \"Severity\"):\n",
        "    high_corr_cols.append(index)\n",
        "\n",
        "high_corr_cols, len(high_corr_cols)"
      ],
      "execution_count": null,
      "outputs": [
        {
          "output_type": "execute_result",
          "data": {
            "text/plain": [
              "(['Start_Lng', 'End_Lng', 'Distance(mi)', 'Crossing', 'Traffic_Signal'], 5)"
            ]
          },
          "metadata": {
            "tags": []
          },
          "execution_count": 67
        }
      ]
    },
    {
      "cell_type": "markdown",
      "metadata": {
        "id": "BhgXIzw8XgWZ"
      },
      "source": [
        "### longitudes and latitudes"
      ]
    },
    {
      "cell_type": "code",
      "metadata": {
        "id": "jeuvep9MXfUr"
      },
      "source": [
        ""
      ],
      "execution_count": null,
      "outputs": []
    },
    {
      "cell_type": "code",
      "metadata": {
        "colab": {
          "base_uri": "https://localhost:8080/"
        },
        "id": "TcF0qzs3tLJL",
        "outputId": "4175cd2e-b8c6-44fc-f0d4-3ea8b361f7bf"
      },
      "source": [
        "state = data_frame[\"State\"].value_counts() * 100 / len(data_frame)\n",
        "state"
      ],
      "execution_count": null,
      "outputs": [
        {
          "output_type": "execute_result",
          "data": {
            "text/plain": [
              "CA    25.140765\n",
              "FL     9.058663\n",
              "TX     7.797400\n",
              "NY     4.341002\n",
              "NC     4.224750\n",
              "SC     4.144416\n",
              "OR     3.383736\n",
              "PA     3.087618\n",
              "VA     3.087101\n",
              "MN     2.742439\n",
              "IL     2.670671\n",
              "GA     2.392340\n",
              "MI     2.307602\n",
              "AZ     2.122989\n",
              "TN     1.909269\n",
              "MD     1.815001\n",
              "NJ     1.727580\n",
              "LA     1.723761\n",
              "WA     1.701467\n",
              "OH     1.645766\n",
              "UT     1.613460\n",
              "CO     1.282594\n",
              "OK     1.207764\n",
              "AL     1.145320\n",
              "MO     0.986510\n",
              "MA     0.864271\n",
              "IN     0.859868\n",
              "CT     0.827562\n",
              "KY     0.526249\n",
              "WI     0.504677\n",
              "NE     0.470583\n",
              "IA     0.326566\n",
              "RI     0.286038\n",
              "NV     0.268767\n",
              "KS     0.256106\n",
              "NH     0.215027\n",
              "MS     0.186437\n",
              "DC     0.178937\n",
              "AR     0.162595\n",
              "DE     0.159120\n",
              "ID     0.143294\n",
              "NM     0.136688\n",
              "WV     0.117697\n",
              "MT     0.114670\n",
              "ME     0.077960\n",
              "VT     0.019094\n",
              "ND     0.015929\n",
              "WY     0.014415\n",
              "SD     0.007466\n",
              "Name: State, dtype: float64"
            ]
          },
          "metadata": {
            "tags": []
          },
          "execution_count": 38
        }
      ]
    },
    {
      "cell_type": "markdown",
      "metadata": {
        "id": "BYDaiXYjhYaj"
      },
      "source": [
        "## Questions and answers\n"
      ]
    },
    {
      "cell_type": "markdown",
      "metadata": {
        "id": "Xl5Gq2S7ulPA"
      },
      "source": [
        "\n",
        "\n",
        "1. Top 5 States with highest accidents?\n",
        "\n"
      ]
    },
    {
      "cell_type": "code",
      "metadata": {
        "colab": {
          "base_uri": "https://localhost:8080/",
          "height": 366
        },
        "id": "LKCb0mXluyIk",
        "outputId": "b6e125d1-4133-43d3-f788-7fa8114e7da5"
      },
      "source": [
        "sb.barplot(x=state[:5].index, y=state[:5], color=\"black\")\n",
        "plt.ylabel(\"Accident percentage\")\n",
        "plt.show()\n",
        "\n",
        "state[:5]"
      ],
      "execution_count": null,
      "outputs": [
        {
          "output_type": "display_data",
          "data": {
            "image/png": "[encoded data removed]",
            "text/plain": [
              "<Figure size 432x288 with 1 Axes>"
            ]
          },
          "metadata": {
            "tags": [],
            "needs_background": "light"
          }
        },
        {
          "output_type": "execute_result",
          "data": {
            "text/plain": [
              "CA    25.140765\n",
              "FL     9.058663\n",
              "TX     7.797400\n",
              "NY     4.341002\n",
              "NC     4.224750\n",
              "Name: State, dtype: float64"
            ]
          },
          "metadata": {
            "tags": []
          },
          "execution_count": 39
        }
      ]
    },
    {
      "cell_type": "code",
      "metadata": {
        "id": "9wyqThv6heU7"
      },
      "source": [
        ""
      ],
      "execution_count": null,
      "outputs": []
    }
  ]
}